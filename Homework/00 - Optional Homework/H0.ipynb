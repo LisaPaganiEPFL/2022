{
 "cells": [
  {
   "cell_type": "markdown",
   "id": "4f2c95ab-5727-4db8-8548-55c311b410ca",
   "metadata": {
    "tags": []
   },
   "source": [
    "# Homework 0"
   ]
  },
  {
   "cell_type": "code",
   "execution_count": 34,
   "id": "5eb4931f-1e74-4b02-8b9a-6de1f853fd6e",
   "metadata": {
    "tags": []
   },
   "outputs": [],
   "source": [
    "import pandas as pd\n",
    "import numpy as np"
   ]
  },
  {
   "cell_type": "code",
   "execution_count": 4,
   "id": "2b7ce6e6-3485-4aa3-98c8-0a37194d1734",
   "metadata": {},
   "outputs": [
    {
     "data": {
      "text/html": [
       "<div>\n",
       "<style scoped>\n",
       "    .dataframe tbody tr th:only-of-type {\n",
       "        vertical-align: middle;\n",
       "    }\n",
       "\n",
       "    .dataframe tbody tr th {\n",
       "        vertical-align: top;\n",
       "    }\n",
       "\n",
       "    .dataframe thead th {\n",
       "        text-align: right;\n",
       "    }\n",
       "</style>\n",
       "<table border=\"1\" class=\"dataframe\">\n",
       "  <thead>\n",
       "    <tr style=\"text-align: right;\">\n",
       "      <th></th>\n",
       "      <th>Unnamed: 0</th>\n",
       "      <th>Intent</th>\n",
       "      <th>Gender</th>\n",
       "      <th>Age</th>\n",
       "      <th>Race</th>\n",
       "      <th>Deaths</th>\n",
       "      <th>Population</th>\n",
       "      <th>Rate</th>\n",
       "    </tr>\n",
       "  </thead>\n",
       "  <tbody>\n",
       "    <tr>\n",
       "      <th>0</th>\n",
       "      <td>1</td>\n",
       "      <td>None selected</td>\n",
       "      <td>None selected</td>\n",
       "      <td>None selected</td>\n",
       "      <td>None selected</td>\n",
       "      <td>33599</td>\n",
       "      <td>316299978</td>\n",
       "      <td>10.6</td>\n",
       "    </tr>\n",
       "    <tr>\n",
       "      <th>1</th>\n",
       "      <td>2</td>\n",
       "      <td>None selected</td>\n",
       "      <td>None selected</td>\n",
       "      <td>None selected</td>\n",
       "      <td>White</td>\n",
       "      <td>22079</td>\n",
       "      <td>197369634</td>\n",
       "      <td>11.2</td>\n",
       "    </tr>\n",
       "    <tr>\n",
       "      <th>2</th>\n",
       "      <td>3</td>\n",
       "      <td>None selected</td>\n",
       "      <td>None selected</td>\n",
       "      <td>None selected</td>\n",
       "      <td>Black</td>\n",
       "      <td>7765</td>\n",
       "      <td>38896382</td>\n",
       "      <td>20.0</td>\n",
       "    </tr>\n",
       "    <tr>\n",
       "      <th>3</th>\n",
       "      <td>4</td>\n",
       "      <td>None selected</td>\n",
       "      <td>None selected</td>\n",
       "      <td>None selected</td>\n",
       "      <td>Hispanic</td>\n",
       "      <td>3007</td>\n",
       "      <td>54049078</td>\n",
       "      <td>5.6</td>\n",
       "    </tr>\n",
       "    <tr>\n",
       "      <th>4</th>\n",
       "      <td>5</td>\n",
       "      <td>None selected</td>\n",
       "      <td>None selected</td>\n",
       "      <td>None selected</td>\n",
       "      <td>Asian/Pacific Islander</td>\n",
       "      <td>442</td>\n",
       "      <td>16315561</td>\n",
       "      <td>2.7</td>\n",
       "    </tr>\n",
       "    <tr>\n",
       "      <th>...</th>\n",
       "      <td>...</td>\n",
       "      <td>...</td>\n",
       "      <td>...</td>\n",
       "      <td>...</td>\n",
       "      <td>...</td>\n",
       "      <td>...</td>\n",
       "      <td>...</td>\n",
       "      <td>...</td>\n",
       "    </tr>\n",
       "    <tr>\n",
       "      <th>535</th>\n",
       "      <td>536</td>\n",
       "      <td>Unknown</td>\n",
       "      <td>Male</td>\n",
       "      <td>5</td>\n",
       "      <td>White</td>\n",
       "      <td>0</td>\n",
       "      <td>0</td>\n",
       "      <td>NaN</td>\n",
       "    </tr>\n",
       "    <tr>\n",
       "      <th>536</th>\n",
       "      <td>537</td>\n",
       "      <td>Unknown</td>\n",
       "      <td>Male</td>\n",
       "      <td>5</td>\n",
       "      <td>Black</td>\n",
       "      <td>0</td>\n",
       "      <td>0</td>\n",
       "      <td>NaN</td>\n",
       "    </tr>\n",
       "    <tr>\n",
       "      <th>537</th>\n",
       "      <td>538</td>\n",
       "      <td>Unknown</td>\n",
       "      <td>Male</td>\n",
       "      <td>5</td>\n",
       "      <td>Hispanic</td>\n",
       "      <td>0</td>\n",
       "      <td>0</td>\n",
       "      <td>NaN</td>\n",
       "    </tr>\n",
       "    <tr>\n",
       "      <th>538</th>\n",
       "      <td>539</td>\n",
       "      <td>Unknown</td>\n",
       "      <td>Male</td>\n",
       "      <td>5</td>\n",
       "      <td>Asian/Pacific Islander</td>\n",
       "      <td>0</td>\n",
       "      <td>0</td>\n",
       "      <td>NaN</td>\n",
       "    </tr>\n",
       "    <tr>\n",
       "      <th>539</th>\n",
       "      <td>540</td>\n",
       "      <td>Unknown</td>\n",
       "      <td>Male</td>\n",
       "      <td>5</td>\n",
       "      <td>Other</td>\n",
       "      <td>0</td>\n",
       "      <td>0</td>\n",
       "      <td>NaN</td>\n",
       "    </tr>\n",
       "  </tbody>\n",
       "</table>\n",
       "<p>540 rows × 8 columns</p>\n",
       "</div>"
      ],
      "text/plain": [
       "     Unnamed: 0         Intent         Gender            Age  \\\n",
       "0             1  None selected  None selected  None selected   \n",
       "1             2  None selected  None selected  None selected   \n",
       "2             3  None selected  None selected  None selected   \n",
       "3             4  None selected  None selected  None selected   \n",
       "4             5  None selected  None selected  None selected   \n",
       "..          ...            ...            ...            ...   \n",
       "535         536        Unknown           Male              5   \n",
       "536         537        Unknown           Male              5   \n",
       "537         538        Unknown           Male              5   \n",
       "538         539        Unknown           Male              5   \n",
       "539         540        Unknown           Male              5   \n",
       "\n",
       "                       Race  Deaths  Population  Rate  \n",
       "0             None selected   33599   316299978  10.6  \n",
       "1                     White   22079   197369634  11.2  \n",
       "2                     Black    7765    38896382  20.0  \n",
       "3                  Hispanic    3007    54049078   5.6  \n",
       "4    Asian/Pacific Islander     442    16315561   2.7  \n",
       "..                      ...     ...         ...   ...  \n",
       "535                   White       0           0   NaN  \n",
       "536                   Black       0           0   NaN  \n",
       "537                Hispanic       0           0   NaN  \n",
       "538  Asian/Pacific Islander       0           0   NaN  \n",
       "539                   Other       0           0   NaN  \n",
       "\n",
       "[540 rows x 8 columns]"
      ]
     },
     "execution_count": 4,
     "metadata": {},
     "output_type": "execute_result"
    }
   ],
   "source": [
    "data_path = './Data/interactive_data.csv'\n",
    "data= pd.read_csv(data_path)\n",
    "data"
   ]
  },
  {
   "cell_type": "code",
   "execution_count": 5,
   "id": "3e52e33c-4d90-4dca-9284-8b97bb3bcfc9",
   "metadata": {},
   "outputs": [
    {
     "data": {
      "text/plain": [
       "Index(['Unnamed: 0', 'Intent', 'Gender', 'Age', 'Race', 'Deaths', 'Population',\n",
       "       'Rate'],\n",
       "      dtype='object')"
      ]
     },
     "execution_count": 5,
     "metadata": {},
     "output_type": "execute_result"
    }
   ],
   "source": [
    "data.columns"
   ]
  },
  {
   "cell_type": "code",
   "execution_count": 24,
   "id": "7244c06a-0f81-4737-a800-103ea31310dd",
   "metadata": {},
   "outputs": [],
   "source": [
    "df = data.values"
   ]
  },
  {
   "cell_type": "code",
   "execution_count": 26,
   "id": "9cb0cec1-1ade-4610-bd0d-511d174707ed",
   "metadata": {},
   "outputs": [],
   "source": [
    "transpose = df.T"
   ]
  },
  {
   "cell_type": "code",
   "execution_count": 27,
   "id": "3c842d3d-3896-4725-81c2-85ca1f3a4fe8",
   "metadata": {},
   "outputs": [
    {
     "data": {
      "text/plain": [
       "array([[1, 2, 3, ..., 538, 539, 540],\n",
       "       ['None selected', 'None selected', 'None selected', ...,\n",
       "        'Unknown', 'Unknown', 'Unknown'],\n",
       "       ['None selected', 'None selected', 'None selected', ..., 'Male',\n",
       "        'Male', 'Male'],\n",
       "       ...,\n",
       "       [33599, 22079, 7765, ..., 0, 0, 0],\n",
       "       [316299978, 197369634, 38896382, ..., 0, 0, 0],\n",
       "       [10.6, 11.2, 20.0, ..., nan, nan, nan]], dtype=object)"
      ]
     },
     "execution_count": 27,
     "metadata": {},
     "output_type": "execute_result"
    }
   ],
   "source": [
    "transpose"
   ]
  },
  {
   "cell_type": "code",
   "execution_count": 36,
   "id": "ae87c1fb-c1de-480f-8cf3-64cd065f395d",
   "metadata": {},
   "outputs": [],
   "source": [
    "total_element = len(transpose[1])"
   ]
  },
  {
   "cell_type": "code",
   "execution_count": 41,
   "id": "82ea963c-d2c8-4fbf-95e7-7d8ad5947c49",
   "metadata": {},
   "outputs": [],
   "source": [
    "suicide = np.count_nonzero(transpose[1] == 'Suicide')\n",
    "none_selected = suicide = np.count_nonzero(transpose[1] == 'None selected')"
   ]
  },
  {
   "cell_type": "code",
   "execution_count": 46,
   "id": "5ab30e13-e306-4238-93d0-05779e70255a",
   "metadata": {},
   "outputs": [],
   "source": [
    "position_suicide = np.where(transpose[1] == 'Suicide')\n",
    "rate_suicide = transpose[7][position_suicide]"
   ]
  },
  {
   "cell_type": "code",
   "execution_count": 56,
   "id": "923f4fd5-d47a-479a-8c42-7e2a6a00ef4d",
   "metadata": {},
   "outputs": [
    {
     "ename": "NameError",
     "evalue": "name 'NaN' is not defined",
     "output_type": "error",
     "traceback": [
      "\u001b[1;31m---------------------------------------------------------------------------\u001b[0m",
      "\u001b[1;31mNameError\u001b[0m                                 Traceback (most recent call last)",
      "\u001b[1;32m~\\AppData\\Local\\Temp/ipykernel_11640/1029906827.py\u001b[0m in \u001b[0;36m<module>\u001b[1;34m\u001b[0m\n\u001b[1;32m----> 1\u001b[1;33m \u001b[0mnan\u001b[0m \u001b[1;33m=\u001b[0m \u001b[0mnp\u001b[0m\u001b[1;33m.\u001b[0m\u001b[0mwhere\u001b[0m\u001b[1;33m(\u001b[0m\u001b[0mrate_suicide\u001b[0m \u001b[1;33m==\u001b[0m \u001b[0mNaN\u001b[0m\u001b[1;33m)\u001b[0m\u001b[1;33m\u001b[0m\u001b[1;33m\u001b[0m\u001b[0m\n\u001b[0m\u001b[0;32m      2\u001b[0m \u001b[0minf\u001b[0m \u001b[1;33m=\u001b[0m \u001b[0mnp\u001b[0m\u001b[1;33m.\u001b[0m\u001b[0mwhere\u001b[0m\u001b[1;33m(\u001b[0m\u001b[0mrate_suicide\u001b[0m \u001b[1;33m==\u001b[0m \u001b[1;34m'inf'\u001b[0m\u001b[1;33m)\u001b[0m\u001b[1;33m\u001b[0m\u001b[1;33m\u001b[0m\u001b[0m\n\u001b[0;32m      3\u001b[0m \u001b[0mprint\u001b[0m\u001b[1;33m(\u001b[0m\u001b[0mnan\u001b[0m\u001b[1;33m)\u001b[0m\u001b[1;33m\u001b[0m\u001b[1;33m\u001b[0m\u001b[0m\n\u001b[0;32m      4\u001b[0m \u001b[1;31m#rate_suicide(nan) = 0\u001b[0m\u001b[1;33m\u001b[0m\u001b[1;33m\u001b[0m\u001b[1;33m\u001b[0m\u001b[0m\n\u001b[0;32m      5\u001b[0m \u001b[1;31m#rate_suicide(inf) = 0\u001b[0m\u001b[1;33m\u001b[0m\u001b[1;33m\u001b[0m\u001b[1;33m\u001b[0m\u001b[0m\n",
      "\u001b[1;31mNameError\u001b[0m: name 'NaN' is not defined"
     ]
    }
   ],
   "source": [
    "nan = np.where(rate_suicide == NaN)\n",
    "inf = np.where(rate_suicide == 'inf')\n",
    "print(nan)\n",
    "#rate_suicide(nan) = 0\n",
    "#rate_suicide(inf) = 0"
   ]
  },
  {
   "cell_type": "markdown",
   "id": "5f6c02ce-014f-485a-aa33-03356ae839ca",
   "metadata": {},
   "source": [
    "Nearly two-thirds of gun deaths are suicides."
   ]
  },
  {
   "cell_type": "code",
   "execution_count": 48,
   "id": "0b8373c0-ef66-41a4-ad7f-a94d06911f40",
   "metadata": {},
   "outputs": [
    {
     "name": "stdout",
     "output_type": "stream",
     "text": [
      "nan\n"
     ]
    }
   ],
   "source": [
    "print(np.sum(rate_suicide))"
   ]
  }
 ],
 "metadata": {
  "kernelspec": {
   "display_name": "Python [conda env:IPLAB] *",
   "language": "python",
   "name": "conda-env-IPLAB-py"
  },
  "language_info": {
   "codemirror_mode": {
    "name": "ipython",
    "version": 3
   },
   "file_extension": ".py",
   "mimetype": "text/x-python",
   "name": "python",
   "nbconvert_exporter": "python",
   "pygments_lexer": "ipython3",
   "version": "3.8.12"
  }
 },
 "nbformat": 4,
 "nbformat_minor": 5
}
